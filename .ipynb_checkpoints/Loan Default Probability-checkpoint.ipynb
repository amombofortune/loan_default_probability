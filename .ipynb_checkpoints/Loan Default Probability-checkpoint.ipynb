{
 "cells": [
  {
   "cell_type": "markdown",
   "id": "200e0d40",
   "metadata": {},
   "source": [
    "# Loan Default Probability"
   ]
  },
  {
   "cell_type": "markdown",
   "id": "d9722a00",
   "metadata": {},
   "source": [
    "Lending is one of the most important activities of the finance industry. Lenders provide loans to borrowers in exchange for the promise of repayment with interest. That means the lender makes a profit only if the borrower pays off the loan. Hence, the two most critical questions in the lending industry are:\n",
    "1. How risky is the borrower?\n",
    "\n",
    "2. Given the borrower’s risk, should we lend to them?"
   ]
  },
  {
   "cell_type": "markdown",
   "id": "13d214b0",
   "metadata": {},
   "source": [
    "### 1. Problem Definition "
   ]
  },
  {
   "cell_type": "markdown",
   "id": "a2d0d134",
   "metadata": {},
   "source": [
    "The goal of this case study is to build a machine learning model to predict the probability that a loan will default."
   ]
  },
  {
   "cell_type": "markdown",
   "id": "488970a0",
   "metadata": {},
   "source": [
    "### 2. Load Python packages and data"
   ]
  },
  {
   "cell_type": "code",
   "execution_count": 1,
   "id": "f15e3636",
   "metadata": {},
   "outputs": [],
   "source": [
    "# Load libraries\n",
    "import numpy as np\n",
    "import pandas as pd\n",
    "from matplotlib import pyplot\n",
    "from pandas import read_csv, set_option\n",
    "from pandas.plotting import scatter_matrix\n",
    "import seaborn as sns\n",
    "from sklearn.preprocessing import StandardScaler\n",
    "from sklearn.model_selection import train_test_split, KFold, cross_val_score, GridSearchCV\n",
    "from sklearn.linear_model import LogisticRegression\n",
    "from sklearn.tree import DecisionTreeClassifier\n",
    "from sklearn.neighbors import KNeighborsClassifier\n",
    "from sklearn.discriminant_analysis import LinearDiscriminantAnalysis\n",
    "from sklearn.naive_bayes import GaussianNB\n",
    "from sklearn.svm import SVC\n",
    "from sklearn.neural_network import MLPClassifier\n",
    "from sklearn.pipeline import Pipeline\n",
    "from sklearn.ensemble import AdaBoostClassifier, GradientBoostingClassifier, RandomForestClassifier, ExtraTreesClassifier\n",
    "from sklearn.metrics import classification_report, confusion_matrix, accuracy_score\n",
    "\n",
    "#Libraries for Deep Learning Models\n",
    "from keras.models import Sequential\n",
    "from keras.layers import Dense\n",
    "from keras.wrappers.scikit_learn import KerasClassifier\n",
    "from keras.optimizers import SGD\n",
    "\n",
    "#Libraries for Saving the Model\n",
    "from pickle import dump\n",
    "from pickle import load"
   ]
  },
  {
   "cell_type": "code",
   "execution_count": 2,
   "id": "fe473d2a",
   "metadata": {},
   "outputs": [],
   "source": [
    "#Diable the warnings\n",
    "import warnings\n",
    "warnings.filterwarnings('ignore')"
   ]
  },
  {
   "cell_type": "code",
   "execution_count": 3,
   "id": "c70d4f0e",
   "metadata": {},
   "outputs": [
    {
     "data": {
      "text/html": [
       "<div>\n",
       "<style scoped>\n",
       "    .dataframe tbody tr th:only-of-type {\n",
       "        vertical-align: middle;\n",
       "    }\n",
       "\n",
       "    .dataframe tbody tr th {\n",
       "        vertical-align: top;\n",
       "    }\n",
       "\n",
       "    .dataframe thead th {\n",
       "        text-align: right;\n",
       "    }\n",
       "</style>\n",
       "<table border=\"1\" class=\"dataframe\">\n",
       "  <thead>\n",
       "    <tr style=\"text-align: right;\">\n",
       "      <th></th>\n",
       "      <th>id</th>\n",
       "      <th>member_id</th>\n",
       "      <th>loan_amnt</th>\n",
       "      <th>funded_amnt</th>\n",
       "      <th>funded_amnt_inv</th>\n",
       "      <th>term</th>\n",
       "      <th>int_rate</th>\n",
       "      <th>installment</th>\n",
       "      <th>grade</th>\n",
       "      <th>sub_grade</th>\n",
       "      <th>...</th>\n",
       "      <th>hardship_payoff_balance_amount</th>\n",
       "      <th>hardship_last_payment_amount</th>\n",
       "      <th>disbursement_method</th>\n",
       "      <th>debt_settlement_flag</th>\n",
       "      <th>debt_settlement_flag_date</th>\n",
       "      <th>settlement_status</th>\n",
       "      <th>settlement_date</th>\n",
       "      <th>settlement_amount</th>\n",
       "      <th>settlement_percentage</th>\n",
       "      <th>settlement_term</th>\n",
       "    </tr>\n",
       "  </thead>\n",
       "  <tbody>\n",
       "    <tr>\n",
       "      <th>0</th>\n",
       "      <td>68407277</td>\n",
       "      <td>NaN</td>\n",
       "      <td>3600.0</td>\n",
       "      <td>3600.0</td>\n",
       "      <td>3600.0</td>\n",
       "      <td>36 months</td>\n",
       "      <td>13.99</td>\n",
       "      <td>123.03</td>\n",
       "      <td>C</td>\n",
       "      <td>C4</td>\n",
       "      <td>...</td>\n",
       "      <td>NaN</td>\n",
       "      <td>NaN</td>\n",
       "      <td>Cash</td>\n",
       "      <td>N</td>\n",
       "      <td>NaN</td>\n",
       "      <td>NaN</td>\n",
       "      <td>NaN</td>\n",
       "      <td>NaN</td>\n",
       "      <td>NaN</td>\n",
       "      <td>NaN</td>\n",
       "    </tr>\n",
       "    <tr>\n",
       "      <th>1</th>\n",
       "      <td>68355089</td>\n",
       "      <td>NaN</td>\n",
       "      <td>24700.0</td>\n",
       "      <td>24700.0</td>\n",
       "      <td>24700.0</td>\n",
       "      <td>36 months</td>\n",
       "      <td>11.99</td>\n",
       "      <td>820.28</td>\n",
       "      <td>C</td>\n",
       "      <td>C1</td>\n",
       "      <td>...</td>\n",
       "      <td>NaN</td>\n",
       "      <td>NaN</td>\n",
       "      <td>Cash</td>\n",
       "      <td>N</td>\n",
       "      <td>NaN</td>\n",
       "      <td>NaN</td>\n",
       "      <td>NaN</td>\n",
       "      <td>NaN</td>\n",
       "      <td>NaN</td>\n",
       "      <td>NaN</td>\n",
       "    </tr>\n",
       "    <tr>\n",
       "      <th>2</th>\n",
       "      <td>68341763</td>\n",
       "      <td>NaN</td>\n",
       "      <td>20000.0</td>\n",
       "      <td>20000.0</td>\n",
       "      <td>20000.0</td>\n",
       "      <td>60 months</td>\n",
       "      <td>10.78</td>\n",
       "      <td>432.66</td>\n",
       "      <td>B</td>\n",
       "      <td>B4</td>\n",
       "      <td>...</td>\n",
       "      <td>NaN</td>\n",
       "      <td>NaN</td>\n",
       "      <td>Cash</td>\n",
       "      <td>N</td>\n",
       "      <td>NaN</td>\n",
       "      <td>NaN</td>\n",
       "      <td>NaN</td>\n",
       "      <td>NaN</td>\n",
       "      <td>NaN</td>\n",
       "      <td>NaN</td>\n",
       "    </tr>\n",
       "    <tr>\n",
       "      <th>3</th>\n",
       "      <td>66310712</td>\n",
       "      <td>NaN</td>\n",
       "      <td>35000.0</td>\n",
       "      <td>35000.0</td>\n",
       "      <td>35000.0</td>\n",
       "      <td>60 months</td>\n",
       "      <td>14.85</td>\n",
       "      <td>829.90</td>\n",
       "      <td>C</td>\n",
       "      <td>C5</td>\n",
       "      <td>...</td>\n",
       "      <td>NaN</td>\n",
       "      <td>NaN</td>\n",
       "      <td>Cash</td>\n",
       "      <td>N</td>\n",
       "      <td>NaN</td>\n",
       "      <td>NaN</td>\n",
       "      <td>NaN</td>\n",
       "      <td>NaN</td>\n",
       "      <td>NaN</td>\n",
       "      <td>NaN</td>\n",
       "    </tr>\n",
       "    <tr>\n",
       "      <th>4</th>\n",
       "      <td>68476807</td>\n",
       "      <td>NaN</td>\n",
       "      <td>10400.0</td>\n",
       "      <td>10400.0</td>\n",
       "      <td>10400.0</td>\n",
       "      <td>60 months</td>\n",
       "      <td>22.45</td>\n",
       "      <td>289.91</td>\n",
       "      <td>F</td>\n",
       "      <td>F1</td>\n",
       "      <td>...</td>\n",
       "      <td>NaN</td>\n",
       "      <td>NaN</td>\n",
       "      <td>Cash</td>\n",
       "      <td>N</td>\n",
       "      <td>NaN</td>\n",
       "      <td>NaN</td>\n",
       "      <td>NaN</td>\n",
       "      <td>NaN</td>\n",
       "      <td>NaN</td>\n",
       "      <td>NaN</td>\n",
       "    </tr>\n",
       "  </tbody>\n",
       "</table>\n",
       "<p>5 rows × 151 columns</p>\n",
       "</div>"
      ],
      "text/plain": [
       "         id  member_id  loan_amnt  funded_amnt  funded_amnt_inv        term  \\\n",
       "0  68407277        NaN     3600.0       3600.0           3600.0   36 months   \n",
       "1  68355089        NaN    24700.0      24700.0          24700.0   36 months   \n",
       "2  68341763        NaN    20000.0      20000.0          20000.0   60 months   \n",
       "3  66310712        NaN    35000.0      35000.0          35000.0   60 months   \n",
       "4  68476807        NaN    10400.0      10400.0          10400.0   60 months   \n",
       "\n",
       "   int_rate  installment grade sub_grade  ... hardship_payoff_balance_amount  \\\n",
       "0     13.99       123.03     C        C4  ...                            NaN   \n",
       "1     11.99       820.28     C        C1  ...                            NaN   \n",
       "2     10.78       432.66     B        B4  ...                            NaN   \n",
       "3     14.85       829.90     C        C5  ...                            NaN   \n",
       "4     22.45       289.91     F        F1  ...                            NaN   \n",
       "\n",
       "  hardship_last_payment_amount disbursement_method  debt_settlement_flag  \\\n",
       "0                          NaN                Cash                     N   \n",
       "1                          NaN                Cash                     N   \n",
       "2                          NaN                Cash                     N   \n",
       "3                          NaN                Cash                     N   \n",
       "4                          NaN                Cash                     N   \n",
       "\n",
       "  debt_settlement_flag_date settlement_status settlement_date  \\\n",
       "0                       NaN               NaN             NaN   \n",
       "1                       NaN               NaN             NaN   \n",
       "2                       NaN               NaN             NaN   \n",
       "3                       NaN               NaN             NaN   \n",
       "4                       NaN               NaN             NaN   \n",
       "\n",
       "  settlement_amount settlement_percentage settlement_term  \n",
       "0               NaN                   NaN             NaN  \n",
       "1               NaN                   NaN             NaN  \n",
       "2               NaN                   NaN             NaN  \n",
       "3               NaN                   NaN             NaN  \n",
       "4               NaN                   NaN             NaN  \n",
       "\n",
       "[5 rows x 151 columns]"
      ]
     },
     "execution_count": 3,
     "metadata": {},
     "output_type": "execute_result"
    }
   ],
   "source": [
    "approved_dataset = pd.read_csv(\"./loan_dataset/accepted.csv/accepted.csv\", low_memory=False)\n",
    "approved_dataset.head()"
   ]
  },
  {
   "cell_type": "markdown",
   "id": "968658f5",
   "metadata": {},
   "source": [
    "### 3. Data preparation and feature selection "
   ]
  },
  {
   "cell_type": "code",
   "execution_count": 4,
   "id": "9397b0a1",
   "metadata": {},
   "outputs": [
    {
     "data": {
      "text/plain": [
       "(2260701, 151)"
      ]
     },
     "execution_count": 4,
     "metadata": {},
     "output_type": "execute_result"
    }
   ],
   "source": [
    "approved_dataset.shape"
   ]
  },
  {
   "cell_type": "markdown",
   "id": "c0914406",
   "metadata": {},
   "source": [
    "Given that there are 151 features for each loan, we will first focus on limiting the feature space, followed by exploratory data analysis"
   ]
  },
  {
   "cell_type": "code",
   "execution_count": 5,
   "id": "1510f378",
   "metadata": {},
   "outputs": [],
   "source": [
    "#rejected_dataset = pd.read_csv(\"./loan_dataset/rejected.csv/rejected.csv\")\n",
    "#rejected_dataset.head()\n",
    "#rejected_dataset.shape"
   ]
  },
  {
   "cell_type": "markdown",
   "id": "eb0a5f64",
   "metadata": {},
   "source": [
    "Our predicted variable is charge-off, a debt that a creditor has given up trying to collect on after a borrower has missed payments for several months. The predicted variable takes a value of 1 in case of charge-off and a value of 0 otherwise.\n",
    "\n",
    "Let us prepare the predicted variable using the loan_status feature"
   ]
  },
  {
   "cell_type": "markdown",
   "id": "6633c1f4",
   "metadata": {},
   "source": [
    "#### 3.1 Prepare the predicted variable "
   ]
  },
  {
   "cell_type": "code",
   "execution_count": 6,
   "id": "0348795b",
   "metadata": {},
   "outputs": [
    {
     "data": {
      "text/plain": [
       "Fully Paid                                             1076751\n",
       "Current                                                 878317\n",
       "Charged Off                                             268559\n",
       "Late (31-120 days)                                       21467\n",
       "In Grace Period                                           8436\n",
       "Late (16-30 days)                                         4349\n",
       "Does not meet the credit policy. Status:Fully Paid        1988\n",
       "Does not meet the credit policy. Status:Charged Off        761\n",
       "Default                                                     40\n",
       "NaN                                                         33\n",
       "Name: loan_status, dtype: int64"
      ]
     },
     "execution_count": 6,
     "metadata": {},
     "output_type": "execute_result"
    }
   ],
   "source": [
    "approved_dataset['loan_status'].value_counts(dropna=False)"
   ]
  },
  {
   "cell_type": "markdown",
   "id": "1197093d",
   "metadata": {},
   "source": [
    "From the documentation,\n",
    "\n",
    "Fully Paid is loan that has been fully repaid.\n",
    "\n",
    "Default is loans that have not been current for 121 days or more.\n",
    "\n",
    "Charged off is loans for which there is no longer a reasonable expectation of further payments."
   ]
  },
  {
   "cell_type": "markdown",
   "id": "dcd9e686",
   "metadata": {},
   "source": [
    "We have current loans of 878317, and we do not know whether these will be charged off, fully paid or default in the future. The observations for Default are tiny in number compared to fully paid or charged off and are not considered. The remaining categories of loan status are not of prime importance for this analysis.\n",
    "\n",
    "So, in order to convert this to a binary classification problem and to analyze in detail the effect of important variables on the loan status, we will consider only two major categories - Charged Off and Fully Paid."
   ]
  },
  {
   "cell_type": "code",
   "execution_count": 7,
   "id": "bf4f2807",
   "metadata": {},
   "outputs": [
    {
     "data": {
      "text/plain": [
       "Fully Paid     0.800374\n",
       "Charged Off    0.199626\n",
       "Name: loan_status, dtype: float64"
      ]
     },
     "execution_count": 7,
     "metadata": {},
     "output_type": "execute_result"
    }
   ],
   "source": [
    "approved_dataset = approved_dataset.loc[approved_dataset['loan_status'].isin(['Fully Paid', 'Charged Off'])]\n",
    "\n",
    "approved_dataset['loan_status'].value_counts(dropna=False)\n",
    "\n",
    "approved_dataset['loan_status'].value_counts(normalize=True, dropna=False)"
   ]
  },
  {
   "cell_type": "markdown",
   "id": "68c4a891",
   "metadata": {},
   "source": [
    "About 80% of the remaining loans have been fully paid and 20% have been charged off, so we have a somewhat unbalanced classification problem."
   ]
  },
  {
   "cell_type": "markdown",
   "id": "041dbda1",
   "metadata": {},
   "source": [
    "We create a new column in the dataset, where we categorize Fully Paid as 0 and Charged Off as 1. This column represents the predicted variable for this classification problem. A value of 1 in this column indicates the borrowe has defaulted."
   ]
  },
  {
   "cell_type": "code",
   "execution_count": 8,
   "id": "97c4819b",
   "metadata": {},
   "outputs": [],
   "source": [
    "import numpy as np\n",
    "approved_dataset['charged_off'] = (approved_dataset['loan_status'] == 'Charged Off').apply(np.uint8)\n",
    "approved_dataset.drop('loan_status', axis=1, inplace=True)"
   ]
  },
  {
   "cell_type": "markdown",
   "id": "e1669445",
   "metadata": {},
   "source": [
    "#### 3.2 Feature selection "
   ]
  },
  {
   "cell_type": "markdown",
   "id": "09a30ef8",
   "metadata": {},
   "source": [
    "The full dataset has 151 features for each loan, but not all features contribute to the prediction variable. Removing features of low importance can improve accuracy and reduce both model complexity and overfitting. Training time can also be reduced for very large datasets. \n",
    "\n",
    "We will eliminate features using the following steps:\n",
    "1. Eliminating features that have more than 30% missing values.\n",
    "2. Eliminating features that are unintuitive based on subject judgement.\n",
    "3. Eliminating features with low correlation with the predicted variable."
   ]
  },
  {
   "cell_type": "markdown",
   "id": "e7b2df6d",
   "metadata": {},
   "source": [
    "##### 3.2.1 Feature elimination based on significant missing values "
   ]
  },
  {
   "cell_type": "markdown",
   "id": "a2523fe9",
   "metadata": {},
   "source": [
    "First, we calculate the percentage of missing data for each feature:"
   ]
  },
  {
   "cell_type": "code",
   "execution_count": 9,
   "id": "924f78af",
   "metadata": {},
   "outputs": [
    {
     "data": {
      "text/plain": [
       "next_pymnt_d                                  1.000000\n",
       "member_id                                     1.000000\n",
       "orig_projected_additional_accrued_interest    0.997206\n",
       "hardship_start_date                           0.995723\n",
       "hardship_status                               0.995723\n",
       "hardship_amount                               0.995723\n",
       "hardship_reason                               0.995723\n",
       "hardship_end_date                             0.995723\n",
       "hardship_type                                 0.995723\n",
       "payment_plan_start_date                       0.995723\n",
       "dtype: float64"
      ]
     },
     "execution_count": 9,
     "metadata": {},
     "output_type": "execute_result"
    }
   ],
   "source": [
    "missing_fractions = approved_dataset.isnull().mean().sort_values(ascending=False)\n",
    "missing_fractions.head(10)"
   ]
  },
  {
   "cell_type": "code",
   "execution_count": 10,
   "id": "3a70e210",
   "metadata": {},
   "outputs": [
    {
     "data": {
      "text/plain": [
       "(1345310, 93)"
      ]
     },
     "execution_count": 10,
     "metadata": {},
     "output_type": "execute_result"
    }
   ],
   "source": [
    "#Drop the missing fraction\n",
    "drop_list = sorted(list(missing_fractions[missing_fractions > 0.3].index))\n",
    "approved_dataset.drop(labels=drop_list, axis=1, inplace=True)\n",
    "approved_dataset.shape"
   ]
  },
  {
   "cell_type": "markdown",
   "id": "883bd67b",
   "metadata": {},
   "source": [
    "Our new dataset has 93 columns remaining once we drop columns with significant missing values."
   ]
  },
  {
   "cell_type": "markdown",
   "id": "4f2e9f6b",
   "metadata": {},
   "source": [
    "##### 3.2.2 Feature elimination based on intuitiveness "
   ]
  },
  {
   "cell_type": "markdown",
   "id": "a19d2075",
   "metadata": {},
   "source": [
    "To filter the features further we check the description in the data dictionary and keep the features that intuitively contribute to the prediction of default. We keep features that contain the relevant credit detail of the borrower, including annual income, FICO score, and debt-to-income ratio. We also keep those features that are available to investors when considering an investment in the loan. These include features in the loan application and any features added by Lending Club when the loan listing was accepted, such as loan grade and interest rate."
   ]
  },
  {
   "cell_type": "markdown",
   "id": "b5f4b2ec",
   "metadata": {},
   "source": [
    "The list of features retained are shown below:"
   ]
  },
  {
   "cell_type": "code",
   "execution_count": 11,
   "id": "93a4ff86",
   "metadata": {},
   "outputs": [],
   "source": [
    "keep_list = ['charged_off','funded_amnt','addr_state', 'annual_inc', \\\n",
    "'application_type','dti', 'earliest_cr_line', 'emp_length',\\\n",
    "'emp_title', 'fico_range_high',\\\n",
    "'fico_range_low', 'grade', 'home_ownership', 'id', 'initial_list_status', \\\n",
    "'installment', 'int_rate', 'loan_amnt', 'loan_status',\\\n",
    "'mort_acc', 'open_acc', 'pub_rec', 'pub_rec_bankruptcies', \\\n",
    "'purpose', 'revol_bal', 'revol_util', \\\n",
    "'sub_grade', 'term', 'title', 'total_acc',\\\n",
    "'verification_status', 'zip_code','last_pymnt_amnt',\\\n",
    "'num_actv_rev_tl', 'mo_sin_rcnt_rev_tl_op',\\\n",
    "'mo_sin_old_rev_tl_op',\"bc_util\",\"bc_open_to_buy\",\\\n",
    "\"avg_cur_bal\",\"acc_open_past_24mths\" ]"
   ]
  },
  {
   "cell_type": "code",
   "execution_count": 12,
   "id": "75e2bf57",
   "metadata": {},
   "outputs": [
    {
     "data": {
      "text/plain": [
       "(1345310, 39)"
      ]
     },
     "execution_count": 12,
     "metadata": {},
     "output_type": "execute_result"
    }
   ],
   "source": [
    "drop_list = [col for col in approved_dataset.columns if col not in keep_list]\n",
    "approved_dataset.drop(labels=drop_list, axis=1, inplace=True)\n",
    "approved_dataset.shape"
   ]
  },
  {
   "cell_type": "markdown",
   "id": "d34ebb51",
   "metadata": {},
   "source": [
    "After removing the features in this step, 39 columns remain."
   ]
  },
  {
   "cell_type": "markdown",
   "id": "a158a5aa",
   "metadata": {},
   "source": [
    "##### 3.2.3 Feature elimination based on correlation "
   ]
  },
  {
   "cell_type": "markdown",
   "id": "d6325742",
   "metadata": {},
   "source": [
    "Next we check the correlation between the features and the predicted variable. Correlation gives us the interdependence between the predicted variable and the feature variable. We select features with a moderate-to-strong relationship with the target variable and drop those that have a correlation of less than 3% with the predicted variable"
   ]
  },
  {
   "cell_type": "code",
   "execution_count": 13,
   "id": "eee929ed",
   "metadata": {},
   "outputs": [
    {
     "name": "stdout",
     "output_type": "stream",
     "text": [
      "['open_acc', 'pub_rec', 'pub_rec_bankruptcies', 'revol_bal', 'total_acc']\n"
     ]
    }
   ],
   "source": [
    "correlation = approved_dataset.corr()\n",
    "correlation_chargeOff = abs(correlation['charged_off'])\n",
    "drop_list_corr = sorted(list(correlation_chargeOff\\\n",
    "                            [correlation_chargeOff < 0.03].index))\n",
    "\n",
    "print(drop_list_corr)"
   ]
  },
  {
   "cell_type": "code",
   "execution_count": 14,
   "id": "98af2cdb",
   "metadata": {},
   "outputs": [],
   "source": [
    "approved_dataset.drop(labels=drop_list_corr, axis=1, inplace=True)"
   ]
  },
  {
   "cell_type": "code",
   "execution_count": 15,
   "id": "da096838",
   "metadata": {},
   "outputs": [
    {
     "data": {
      "text/plain": [
       "(1345310, 34)"
      ]
     },
     "execution_count": 15,
     "metadata": {},
     "output_type": "execute_result"
    }
   ],
   "source": [
    "approved_dataset.shape"
   ]
  },
  {
   "cell_type": "markdown",
   "id": "3a6869ed",
   "metadata": {},
   "source": [
    "The columns with low correlation are dropped from the dataset, and we are left with only 34 columns"
   ]
  },
  {
   "cell_type": "markdown",
   "id": "20f6500c",
   "metadata": {},
   "source": [
    "### 4. Feature selection and exploratory analysis "
   ]
  },
  {
   "cell_type": "markdown",
   "id": "1062aa2f",
   "metadata": {},
   "source": [
    "In this step, we perform the exploratory data analysis of the feature selection to better visualize the relevant features. We will also continue the feature elimination by visually screening and dropping those features deemed irrelevant."
   ]
  },
  {
   "cell_type": "code",
   "execution_count": 16,
   "id": "77ff4b9e",
   "metadata": {},
   "outputs": [
    {
     "data": {
      "text/html": [
       "<div>\n",
       "<style scoped>\n",
       "    .dataframe tbody tr th:only-of-type {\n",
       "        vertical-align: middle;\n",
       "    }\n",
       "\n",
       "    .dataframe tbody tr th {\n",
       "        vertical-align: top;\n",
       "    }\n",
       "\n",
       "    .dataframe thead th {\n",
       "        text-align: right;\n",
       "    }\n",
       "</style>\n",
       "<table border=\"1\" class=\"dataframe\">\n",
       "  <thead>\n",
       "    <tr style=\"text-align: right;\">\n",
       "      <th></th>\n",
       "      <th>loan_amnt</th>\n",
       "      <th>funded_amnt</th>\n",
       "      <th>int_rate</th>\n",
       "      <th>installment</th>\n",
       "      <th>annual_inc</th>\n",
       "      <th>dti</th>\n",
       "      <th>fico_range_low</th>\n",
       "      <th>fico_range_high</th>\n",
       "      <th>revol_util</th>\n",
       "      <th>last_pymnt_amnt</th>\n",
       "      <th>acc_open_past_24mths</th>\n",
       "      <th>avg_cur_bal</th>\n",
       "      <th>bc_open_to_buy</th>\n",
       "      <th>bc_util</th>\n",
       "      <th>mo_sin_old_rev_tl_op</th>\n",
       "      <th>mo_sin_rcnt_rev_tl_op</th>\n",
       "      <th>mort_acc</th>\n",
       "      <th>num_actv_rev_tl</th>\n",
       "      <th>charged_off</th>\n",
       "    </tr>\n",
       "  </thead>\n",
       "  <tbody>\n",
       "    <tr>\n",
       "      <th>count</th>\n",
       "      <td>1.345310e+06</td>\n",
       "      <td>1.345310e+06</td>\n",
       "      <td>1.345310e+06</td>\n",
       "      <td>1.345310e+06</td>\n",
       "      <td>1.345310e+06</td>\n",
       "      <td>1.344936e+06</td>\n",
       "      <td>1.345310e+06</td>\n",
       "      <td>1.345310e+06</td>\n",
       "      <td>1.344453e+06</td>\n",
       "      <td>1.345310e+06</td>\n",
       "      <td>1.298029e+06</td>\n",
       "      <td>1.277761e+06</td>\n",
       "      <td>1.284167e+06</td>\n",
       "      <td>1.283398e+06</td>\n",
       "      <td>1.277782e+06</td>\n",
       "      <td>1.277782e+06</td>\n",
       "      <td>1.298029e+06</td>\n",
       "      <td>1.277783e+06</td>\n",
       "      <td>1.345310e+06</td>\n",
       "    </tr>\n",
       "    <tr>\n",
       "      <th>mean</th>\n",
       "      <td>1.441997e+04</td>\n",
       "      <td>1.441156e+04</td>\n",
       "      <td>1.323962e+01</td>\n",
       "      <td>4.380755e+02</td>\n",
       "      <td>7.624764e+04</td>\n",
       "      <td>1.828267e+01</td>\n",
       "      <td>6.961850e+02</td>\n",
       "      <td>7.001852e+02</td>\n",
       "      <td>5.181002e+01</td>\n",
       "      <td>5.423571e+03</td>\n",
       "      <td>4.692870e+00</td>\n",
       "      <td>1.348861e+04</td>\n",
       "      <td>1.018623e+04</td>\n",
       "      <td>5.993957e+01</td>\n",
       "      <td>1.814760e+02</td>\n",
       "      <td>1.311569e+01</td>\n",
       "      <td>1.670783e+00</td>\n",
       "      <td>5.643482e+00</td>\n",
       "      <td>1.996261e-01</td>\n",
       "    </tr>\n",
       "    <tr>\n",
       "      <th>std</th>\n",
       "      <td>8.717051e+03</td>\n",
       "      <td>8.713118e+03</td>\n",
       "      <td>4.768716e+00</td>\n",
       "      <td>2.615126e+02</td>\n",
       "      <td>6.992510e+04</td>\n",
       "      <td>1.116045e+01</td>\n",
       "      <td>3.185251e+01</td>\n",
       "      <td>3.185316e+01</td>\n",
       "      <td>2.452107e+01</td>\n",
       "      <td>7.117995e+03</td>\n",
       "      <td>3.186810e+00</td>\n",
       "      <td>1.628970e+04</td>\n",
       "      <td>1.535084e+04</td>\n",
       "      <td>2.829322e+01</td>\n",
       "      <td>9.450512e+01</td>\n",
       "      <td>1.634105e+01</td>\n",
       "      <td>2.000444e+00</td>\n",
       "      <td>3.301790e+00</td>\n",
       "      <td>3.997195e-01</td>\n",
       "    </tr>\n",
       "    <tr>\n",
       "      <th>min</th>\n",
       "      <td>5.000000e+02</td>\n",
       "      <td>5.000000e+02</td>\n",
       "      <td>5.310000e+00</td>\n",
       "      <td>4.930000e+00</td>\n",
       "      <td>0.000000e+00</td>\n",
       "      <td>-1.000000e+00</td>\n",
       "      <td>6.250000e+02</td>\n",
       "      <td>6.290000e+02</td>\n",
       "      <td>0.000000e+00</td>\n",
       "      <td>0.000000e+00</td>\n",
       "      <td>0.000000e+00</td>\n",
       "      <td>0.000000e+00</td>\n",
       "      <td>0.000000e+00</td>\n",
       "      <td>0.000000e+00</td>\n",
       "      <td>2.000000e+00</td>\n",
       "      <td>0.000000e+00</td>\n",
       "      <td>0.000000e+00</td>\n",
       "      <td>0.000000e+00</td>\n",
       "      <td>0.000000e+00</td>\n",
       "    </tr>\n",
       "    <tr>\n",
       "      <th>25%</th>\n",
       "      <td>8.000000e+03</td>\n",
       "      <td>8.000000e+03</td>\n",
       "      <td>9.750000e+00</td>\n",
       "      <td>2.484800e+02</td>\n",
       "      <td>4.578000e+04</td>\n",
       "      <td>1.179000e+01</td>\n",
       "      <td>6.700000e+02</td>\n",
       "      <td>6.740000e+02</td>\n",
       "      <td>3.340000e+01</td>\n",
       "      <td>3.985200e+02</td>\n",
       "      <td>2.000000e+00</td>\n",
       "      <td>3.101000e+03</td>\n",
       "      <td>1.464000e+03</td>\n",
       "      <td>3.830000e+01</td>\n",
       "      <td>1.170000e+02</td>\n",
       "      <td>4.000000e+00</td>\n",
       "      <td>0.000000e+00</td>\n",
       "      <td>3.000000e+00</td>\n",
       "      <td>0.000000e+00</td>\n",
       "    </tr>\n",
       "    <tr>\n",
       "      <th>50%</th>\n",
       "      <td>1.200000e+04</td>\n",
       "      <td>1.200000e+04</td>\n",
       "      <td>1.274000e+01</td>\n",
       "      <td>3.754300e+02</td>\n",
       "      <td>6.500000e+04</td>\n",
       "      <td>1.761000e+01</td>\n",
       "      <td>6.900000e+02</td>\n",
       "      <td>6.940000e+02</td>\n",
       "      <td>5.220000e+01</td>\n",
       "      <td>2.042050e+03</td>\n",
       "      <td>4.000000e+00</td>\n",
       "      <td>7.407000e+03</td>\n",
       "      <td>4.700000e+03</td>\n",
       "      <td>6.320000e+01</td>\n",
       "      <td>1.640000e+02</td>\n",
       "      <td>8.000000e+00</td>\n",
       "      <td>1.000000e+00</td>\n",
       "      <td>5.000000e+00</td>\n",
       "      <td>0.000000e+00</td>\n",
       "    </tr>\n",
       "    <tr>\n",
       "      <th>75%</th>\n",
       "      <td>2.000000e+04</td>\n",
       "      <td>2.000000e+04</td>\n",
       "      <td>1.599000e+01</td>\n",
       "      <td>5.807300e+02</td>\n",
       "      <td>9.000000e+04</td>\n",
       "      <td>2.406000e+01</td>\n",
       "      <td>7.100000e+02</td>\n",
       "      <td>7.140000e+02</td>\n",
       "      <td>7.070000e+01</td>\n",
       "      <td>8.250570e+03</td>\n",
       "      <td>6.000000e+00</td>\n",
       "      <td>1.871700e+04</td>\n",
       "      <td>1.238300e+04</td>\n",
       "      <td>8.480000e+01</td>\n",
       "      <td>2.300000e+02</td>\n",
       "      <td>1.600000e+01</td>\n",
       "      <td>3.000000e+00</td>\n",
       "      <td>7.000000e+00</td>\n",
       "      <td>0.000000e+00</td>\n",
       "    </tr>\n",
       "    <tr>\n",
       "      <th>max</th>\n",
       "      <td>4.000000e+04</td>\n",
       "      <td>4.000000e+04</td>\n",
       "      <td>3.099000e+01</td>\n",
       "      <td>1.719830e+03</td>\n",
       "      <td>1.099920e+07</td>\n",
       "      <td>9.990000e+02</td>\n",
       "      <td>8.450000e+02</td>\n",
       "      <td>8.500000e+02</td>\n",
       "      <td>8.923000e+02</td>\n",
       "      <td>4.219205e+04</td>\n",
       "      <td>6.400000e+01</td>\n",
       "      <td>9.580840e+05</td>\n",
       "      <td>5.599120e+05</td>\n",
       "      <td>3.396000e+02</td>\n",
       "      <td>8.520000e+02</td>\n",
       "      <td>4.380000e+02</td>\n",
       "      <td>5.100000e+01</td>\n",
       "      <td>6.300000e+01</td>\n",
       "      <td>1.000000e+00</td>\n",
       "    </tr>\n",
       "  </tbody>\n",
       "</table>\n",
       "</div>"
      ],
      "text/plain": [
       "          loan_amnt   funded_amnt      int_rate   installment    annual_inc  \\\n",
       "count  1.345310e+06  1.345310e+06  1.345310e+06  1.345310e+06  1.345310e+06   \n",
       "mean   1.441997e+04  1.441156e+04  1.323962e+01  4.380755e+02  7.624764e+04   \n",
       "std    8.717051e+03  8.713118e+03  4.768716e+00  2.615126e+02  6.992510e+04   \n",
       "min    5.000000e+02  5.000000e+02  5.310000e+00  4.930000e+00  0.000000e+00   \n",
       "25%    8.000000e+03  8.000000e+03  9.750000e+00  2.484800e+02  4.578000e+04   \n",
       "50%    1.200000e+04  1.200000e+04  1.274000e+01  3.754300e+02  6.500000e+04   \n",
       "75%    2.000000e+04  2.000000e+04  1.599000e+01  5.807300e+02  9.000000e+04   \n",
       "max    4.000000e+04  4.000000e+04  3.099000e+01  1.719830e+03  1.099920e+07   \n",
       "\n",
       "                dti  fico_range_low  fico_range_high    revol_util  \\\n",
       "count  1.344936e+06    1.345310e+06     1.345310e+06  1.344453e+06   \n",
       "mean   1.828267e+01    6.961850e+02     7.001852e+02  5.181002e+01   \n",
       "std    1.116045e+01    3.185251e+01     3.185316e+01  2.452107e+01   \n",
       "min   -1.000000e+00    6.250000e+02     6.290000e+02  0.000000e+00   \n",
       "25%    1.179000e+01    6.700000e+02     6.740000e+02  3.340000e+01   \n",
       "50%    1.761000e+01    6.900000e+02     6.940000e+02  5.220000e+01   \n",
       "75%    2.406000e+01    7.100000e+02     7.140000e+02  7.070000e+01   \n",
       "max    9.990000e+02    8.450000e+02     8.500000e+02  8.923000e+02   \n",
       "\n",
       "       last_pymnt_amnt  acc_open_past_24mths   avg_cur_bal  bc_open_to_buy  \\\n",
       "count     1.345310e+06          1.298029e+06  1.277761e+06    1.284167e+06   \n",
       "mean      5.423571e+03          4.692870e+00  1.348861e+04    1.018623e+04   \n",
       "std       7.117995e+03          3.186810e+00  1.628970e+04    1.535084e+04   \n",
       "min       0.000000e+00          0.000000e+00  0.000000e+00    0.000000e+00   \n",
       "25%       3.985200e+02          2.000000e+00  3.101000e+03    1.464000e+03   \n",
       "50%       2.042050e+03          4.000000e+00  7.407000e+03    4.700000e+03   \n",
       "75%       8.250570e+03          6.000000e+00  1.871700e+04    1.238300e+04   \n",
       "max       4.219205e+04          6.400000e+01  9.580840e+05    5.599120e+05   \n",
       "\n",
       "            bc_util  mo_sin_old_rev_tl_op  mo_sin_rcnt_rev_tl_op  \\\n",
       "count  1.283398e+06          1.277782e+06           1.277782e+06   \n",
       "mean   5.993957e+01          1.814760e+02           1.311569e+01   \n",
       "std    2.829322e+01          9.450512e+01           1.634105e+01   \n",
       "min    0.000000e+00          2.000000e+00           0.000000e+00   \n",
       "25%    3.830000e+01          1.170000e+02           4.000000e+00   \n",
       "50%    6.320000e+01          1.640000e+02           8.000000e+00   \n",
       "75%    8.480000e+01          2.300000e+02           1.600000e+01   \n",
       "max    3.396000e+02          8.520000e+02           4.380000e+02   \n",
       "\n",
       "           mort_acc  num_actv_rev_tl   charged_off  \n",
       "count  1.298029e+06     1.277783e+06  1.345310e+06  \n",
       "mean   1.670783e+00     5.643482e+00  1.996261e-01  \n",
       "std    2.000444e+00     3.301790e+00  3.997195e-01  \n",
       "min    0.000000e+00     0.000000e+00  0.000000e+00  \n",
       "25%    0.000000e+00     3.000000e+00  0.000000e+00  \n",
       "50%    1.000000e+00     5.000000e+00  0.000000e+00  \n",
       "75%    3.000000e+00     7.000000e+00  0.000000e+00  \n",
       "max    5.100000e+01     6.300000e+01  1.000000e+00  "
      ]
     },
     "execution_count": 16,
     "metadata": {},
     "output_type": "execute_result"
    }
   ],
   "source": [
    "approved_dataset.describe()"
   ]
  },
  {
   "cell_type": "markdown",
   "id": "bf478d4c",
   "metadata": {},
   "source": [
    "#### 4.1 Analysing categorical features  "
   ]
  },
  {
   "cell_type": "markdown",
   "id": "158db925",
   "metadata": {},
   "source": [
    "Let us look at some of the categorical features in the dataset."
   ]
  },
  {
   "cell_type": "code",
   "execution_count": 17,
   "id": "1044acd5",
   "metadata": {},
   "outputs": [
    {
     "data": {
      "text/html": [
       "<div>\n",
       "<style scoped>\n",
       "    .dataframe tbody tr th:only-of-type {\n",
       "        vertical-align: middle;\n",
       "    }\n",
       "\n",
       "    .dataframe tbody tr th {\n",
       "        vertical-align: top;\n",
       "    }\n",
       "\n",
       "    .dataframe thead th {\n",
       "        text-align: right;\n",
       "    }\n",
       "</style>\n",
       "<table border=\"1\" class=\"dataframe\">\n",
       "  <thead>\n",
       "    <tr style=\"text-align: right;\">\n",
       "      <th></th>\n",
       "      <th>id</th>\n",
       "      <th>emp_title</th>\n",
       "      <th>title</th>\n",
       "      <th>zip_code</th>\n",
       "    </tr>\n",
       "  </thead>\n",
       "  <tbody>\n",
       "    <tr>\n",
       "      <th>count</th>\n",
       "      <td>1345310</td>\n",
       "      <td>1259525</td>\n",
       "      <td>1328651</td>\n",
       "      <td>1345309</td>\n",
       "    </tr>\n",
       "    <tr>\n",
       "      <th>unique</th>\n",
       "      <td>1345310</td>\n",
       "      <td>378353</td>\n",
       "      <td>61682</td>\n",
       "      <td>943</td>\n",
       "    </tr>\n",
       "    <tr>\n",
       "      <th>top</th>\n",
       "      <td>68407277</td>\n",
       "      <td>Teacher</td>\n",
       "      <td>Debt consolidation</td>\n",
       "      <td>945xx</td>\n",
       "    </tr>\n",
       "    <tr>\n",
       "      <th>freq</th>\n",
       "      <td>1</td>\n",
       "      <td>21268</td>\n",
       "      <td>660960</td>\n",
       "      <td>15005</td>\n",
       "    </tr>\n",
       "  </tbody>\n",
       "</table>\n",
       "</div>"
      ],
      "text/plain": [
       "              id emp_title               title zip_code\n",
       "count    1345310   1259525             1328651  1345309\n",
       "unique   1345310    378353               61682      943\n",
       "top     68407277   Teacher  Debt consolidation    945xx\n",
       "freq           1     21268              660960    15005"
      ]
     },
     "execution_count": 17,
     "metadata": {},
     "output_type": "execute_result"
    }
   ],
   "source": [
    "approved_dataset[['id', 'emp_title', 'title', 'zip_code']].describe()"
   ]
  },
  {
   "cell_type": "markdown",
   "id": "247bbc2b",
   "metadata": {},
   "source": [
    "Ids are all unique and irrelevant for modeling. There are too many unique values for employment title and titles. Occupation and job title may provide some information for default modeling; however, we assume much of this information is embedded in the verified income of the customer. \n",
    "\n",
    "Geography could play a role in credit determination, and zip codes provide a granular view of this dimension. "
   ]
  },
  {
   "cell_type": "code",
   "execution_count": 18,
   "id": "32831e5d",
   "metadata": {},
   "outputs": [],
   "source": [
    "approved_dataset.drop(['id', 'emp_title', 'title', 'zip_code'], axis = 1, inplace=True)"
   ]
  },
  {
   "cell_type": "markdown",
   "id": "38acdaa1",
   "metadata": {},
   "source": [
    "Let's look at the term feature.\n",
    "\n",
    "Term refer to the number of payments on the loan. Values are in months and can be either 36 or 60. The 60-month loans are more likely to charge off. Let's convert term to intergers and group by the term for further analysis"
   ]
  },
  {
   "cell_type": "code",
   "execution_count": 19,
   "id": "ad1f282d",
   "metadata": {},
   "outputs": [
    {
     "data": {
      "text/plain": [
       "term\n",
       "36    0.159934\n",
       "60    0.324454\n",
       "Name: charged_off, dtype: float64"
      ]
     },
     "execution_count": 19,
     "metadata": {},
     "output_type": "execute_result"
    }
   ],
   "source": [
    "approved_dataset['term'] = approved_dataset['term'].apply(lambda s: np.int8(s.split()[0]))\n",
    "approved_dataset.groupby('term')['charged_off'].value_counts(normalize=True).loc[:,1]"
   ]
  },
  {
   "cell_type": "markdown",
   "id": "ea4a2c42",
   "metadata": {},
   "source": [
    "We can see that loans with 5 year periods (60 months) are more than twice as likely to charge-off as loans with three-year periods."
   ]
  },
  {
   "cell_type": "markdown",
   "id": "eb71ab83",
   "metadata": {},
   "source": [
    "Let's look at the emp_length feature"
   ]
  },
  {
   "cell_type": "code",
   "execution_count": 20,
   "id": "c074d48d",
   "metadata": {},
   "outputs": [],
   "source": [
    "approved_dataset['emp_length'].replace(to_replace='10+ years', value='10 years',\\\n",
    "                                      inplace=True)\n",
    "\n",
    "approved_dataset['emp_length'].replace('< 1 year', '0 years', inplace=True)\n",
    "\n",
    "def emp_length_to_int(s):\n",
    "    if pd.isnull(s):\n",
    "        return s\n",
    "    else:\n",
    "        return np.int8(s.split()[0])"
   ]
  },
  {
   "cell_type": "code",
   "execution_count": 21,
   "id": "e2bfab8d",
   "metadata": {},
   "outputs": [
    {
     "data": {
      "text/plain": [
       "<AxesSubplot:xlabel='emp_length'>"
      ]
     },
     "execution_count": 21,
     "metadata": {},
     "output_type": "execute_result"
    },
    {
     "data": {
      "image/png": "[encoded data removed]",
      "text/plain": [
       "<Figure size 432x288 with 1 Axes>"
      ]
     },
     "metadata": {
      "needs_background": "light"
     },
     "output_type": "display_data"
    }
   ],
   "source": [
    "#Lets plot\n",
    "import seaborn as sns\n",
    "approved_dataset['emp_length'] = approved_dataset['emp_length'].apply(emp_length_to_int)\n",
    "charge_off_rates = approved_dataset.groupby('emp_length')['charged_off'].value_counts\\\n",
    "(normalize=True).loc[:,1]\n",
    "sns.barplot(x=charge_off_rates.index, y=charge_off_rates.values, color='#5975A4', saturation=1)"
   ]
  },
  {
   "cell_type": "markdown",
   "id": "fdf4f77a",
   "metadata": {},
   "source": [
    "Loan status does not appear to vary much with employment length(on average); hence this feature is dropped"
   ]
  },
  {
   "cell_type": "code",
   "execution_count": 22,
   "id": "48bc4920",
   "metadata": {},
   "outputs": [],
   "source": [
    "approved_dataset.drop(['emp_length'], axis=1, inplace=True)"
   ]
  },
  {
   "cell_type": "markdown",
   "id": "16902d32",
   "metadata": {},
   "source": [
    "Let's look at the sub_grade feature"
   ]
  },
  {
   "cell_type": "code",
   "execution_count": 23,
   "id": "93612f33",
   "metadata": {},
   "outputs": [
    {
     "data": {
      "text/plain": [
       "<AxesSubplot:xlabel='sub_grade'>"
      ]
     },
     "execution_count": 23,
     "metadata": {},
     "output_type": "execute_result"
    },
    {
     "data": {
      "image/png": "[encoded data removed]",
      "text/plain": [
       "<Figure size 432x288 with 1 Axes>"
      ]
     },
     "metadata": {
      "needs_background": "light"
     },
     "output_type": "display_data"
    }
   ],
   "source": [
    "charge_off_rates = approved_dataset.groupby('sub_grade')['charged_off'].value_counts\\\n",
    "(normalize=True).loc[:,1]\n",
    "sns.barplot(x=charge_off_rates.index, y=charge_off_rates.values)"
   ]
  },
  {
   "cell_type": "markdown",
   "id": "c0129970",
   "metadata": {},
   "source": [
    "As we can see in the chart, there's a clear trend of higher probability of charge-off as the sub-grade worsens, and so it is considered to be a key value."
   ]
  },
  {
   "cell_type": "code",
   "execution_count": 24,
   "id": "ce70f75b",
   "metadata": {},
   "outputs": [],
   "source": [
    "approved_dataset['earliest_cr_line'] = approved_dataset['earliest_cr_line'].apply(lambda s: int(s[-4:]))"
   ]
  },
  {
   "cell_type": "markdown",
   "id": "4c0b9349",
   "metadata": {},
   "source": [
    "#### 4.2 Analysing continuous features "
   ]
  },
  {
   "cell_type": "code",
   "execution_count": 25,
   "id": "77153e1a",
   "metadata": {},
   "outputs": [
    {
     "data": {
      "text/html": [
       "<div>\n",
       "<style scoped>\n",
       "    .dataframe tbody tr th:only-of-type {\n",
       "        vertical-align: middle;\n",
       "    }\n",
       "\n",
       "    .dataframe tbody tr th {\n",
       "        vertical-align: top;\n",
       "    }\n",
       "\n",
       "    .dataframe thead th {\n",
       "        text-align: right;\n",
       "    }\n",
       "</style>\n",
       "<table border=\"1\" class=\"dataframe\">\n",
       "  <thead>\n",
       "    <tr style=\"text-align: right;\">\n",
       "      <th></th>\n",
       "      <th>annual_inc</th>\n",
       "    </tr>\n",
       "  </thead>\n",
       "  <tbody>\n",
       "    <tr>\n",
       "      <th>count</th>\n",
       "      <td>1.345310e+06</td>\n",
       "    </tr>\n",
       "    <tr>\n",
       "      <th>mean</th>\n",
       "      <td>7.624764e+04</td>\n",
       "    </tr>\n",
       "    <tr>\n",
       "      <th>std</th>\n",
       "      <td>6.992510e+04</td>\n",
       "    </tr>\n",
       "    <tr>\n",
       "      <th>min</th>\n",
       "      <td>0.000000e+00</td>\n",
       "    </tr>\n",
       "    <tr>\n",
       "      <th>25%</th>\n",
       "      <td>4.578000e+04</td>\n",
       "    </tr>\n",
       "    <tr>\n",
       "      <th>50%</th>\n",
       "      <td>6.500000e+04</td>\n",
       "    </tr>\n",
       "    <tr>\n",
       "      <th>75%</th>\n",
       "      <td>9.000000e+04</td>\n",
       "    </tr>\n",
       "    <tr>\n",
       "      <th>max</th>\n",
       "      <td>1.099920e+07</td>\n",
       "    </tr>\n",
       "  </tbody>\n",
       "</table>\n",
       "</div>"
      ],
      "text/plain": [
       "         annual_inc\n",
       "count  1.345310e+06\n",
       "mean   7.624764e+04\n",
       "std    6.992510e+04\n",
       "min    0.000000e+00\n",
       "25%    4.578000e+04\n",
       "50%    6.500000e+04\n",
       "75%    9.000000e+04\n",
       "max    1.099920e+07"
      ]
     },
     "execution_count": 25,
     "metadata": {},
     "output_type": "execute_result"
    }
   ],
   "source": [
    "approved_dataset[['annual_inc']].describe()"
   ]
  },
  {
   "cell_type": "markdown",
   "id": "a54186ca",
   "metadata": {},
   "source": [
    "Annual income ranges from $0 to $1,099,920 with a median of $65,000. Because of the large range of incomes, we use a log transform of the annual income variable"
   ]
  },
  {
   "cell_type": "code",
   "execution_count": 26,
   "id": "5a18d426",
   "metadata": {},
   "outputs": [],
   "source": [
    "approved_dataset['log_annual_inc'] = approved_dataset['annual_inc'].apply(lambda x: np.log10(x+1))\n",
    "approved_dataset.drop('annual_inc', axis=1, inplace=True)"
   ]
  },
  {
   "cell_type": "markdown",
   "id": "73c3e37e",
   "metadata": {},
   "source": [
    "Let's look at the FICO score feature"
   ]
  },
  {
   "cell_type": "code",
   "execution_count": 27,
   "id": "07376311",
   "metadata": {},
   "outputs": [
    {
     "data": {
      "text/html": [
       "<div>\n",
       "<style scoped>\n",
       "    .dataframe tbody tr th:only-of-type {\n",
       "        vertical-align: middle;\n",
       "    }\n",
       "\n",
       "    .dataframe tbody tr th {\n",
       "        vertical-align: top;\n",
       "    }\n",
       "\n",
       "    .dataframe thead th {\n",
       "        text-align: right;\n",
       "    }\n",
       "</style>\n",
       "<table border=\"1\" class=\"dataframe\">\n",
       "  <thead>\n",
       "    <tr style=\"text-align: right;\">\n",
       "      <th></th>\n",
       "      <th>fico_range_low</th>\n",
       "      <th>fico_range_high</th>\n",
       "    </tr>\n",
       "  </thead>\n",
       "  <tbody>\n",
       "    <tr>\n",
       "      <th>fico_range_low</th>\n",
       "      <td>1.0</td>\n",
       "      <td>1.0</td>\n",
       "    </tr>\n",
       "    <tr>\n",
       "      <th>fico_range_high</th>\n",
       "      <td>1.0</td>\n",
       "      <td>1.0</td>\n",
       "    </tr>\n",
       "  </tbody>\n",
       "</table>\n",
       "</div>"
      ],
      "text/plain": [
       "                 fico_range_low  fico_range_high\n",
       "fico_range_low              1.0              1.0\n",
       "fico_range_high             1.0              1.0"
      ]
     },
     "execution_count": 27,
     "metadata": {},
     "output_type": "execute_result"
    }
   ],
   "source": [
    "approved_dataset[['fico_range_low', 'fico_range_high']].corr()"
   ]
  },
  {
   "cell_type": "markdown",
   "id": "9697400b",
   "metadata": {},
   "source": [
    "Given that the correlation between FICO low and high is 1, it is preferred that we keep only one feature, which we take as the average of the FICO scores"
   ]
  },
  {
   "cell_type": "code",
   "execution_count": 28,
   "id": "f1ac32b9",
   "metadata": {},
   "outputs": [],
   "source": [
    "approved_dataset['fico_score'] = 0.5* approved_dataset['fico_range_low'] +\\\n",
    "0.5* approved_dataset['fico_range_high']\n",
    "\n",
    "approved_dataset.drop(['fico_range_high', 'fico_range_low'], axis=1, inplace=True)"
   ]
  },
  {
   "cell_type": "markdown",
   "id": "e03f1825",
   "metadata": {},
   "source": [
    "#### 4.3 Encoding categorical data "
   ]
  },
  {
   "cell_type": "markdown",
   "id": "94831c4e",
   "metadata": {},
   "source": [
    "We will use label encoder, which encodes labels with a value between 0 and n, where n is the number of distinct labels."
   ]
  },
  {
   "cell_type": "code",
   "execution_count": 29,
   "id": "9a960055",
   "metadata": {},
   "outputs": [],
   "source": [
    "from sklearn.preprocessing import LabelEncoder\n",
    "\n",
    "categorical_feature_mask = approved_dataset.dtypes ==object\n",
    "#filter categorical columns using mask and turn it into a list\n",
    "categorical_cols = approved_dataset.columns[categorical_feature_mask].tolist()"
   ]
  },
  {
   "cell_type": "markdown",
   "id": "5ec8551e",
   "metadata": {},
   "source": [
    "Let's look at the categorical columns"
   ]
  },
  {
   "cell_type": "code",
   "execution_count": 30,
   "id": "53ecb04e",
   "metadata": {},
   "outputs": [
    {
     "data": {
      "text/plain": [
       "['grade',\n",
       " 'sub_grade',\n",
       " 'home_ownership',\n",
       " 'verification_status',\n",
       " 'purpose',\n",
       " 'addr_state',\n",
       " 'initial_list_status',\n",
       " 'application_type']"
      ]
     },
     "execution_count": 30,
     "metadata": {},
     "output_type": "execute_result"
    }
   ],
   "source": [
    "categorical_cols"
   ]
  },
  {
   "cell_type": "code",
   "execution_count": 31,
   "id": "cd052209",
   "metadata": {},
   "outputs": [
    {
     "data": {
      "text/html": [
       "<div>\n",
       "<style scoped>\n",
       "    .dataframe tbody tr th:only-of-type {\n",
       "        vertical-align: middle;\n",
       "    }\n",
       "\n",
       "    .dataframe tbody tr th {\n",
       "        vertical-align: top;\n",
       "    }\n",
       "\n",
       "    .dataframe thead th {\n",
       "        text-align: right;\n",
       "    }\n",
       "</style>\n",
       "<table border=\"1\" class=\"dataframe\">\n",
       "  <thead>\n",
       "    <tr style=\"text-align: right;\">\n",
       "      <th></th>\n",
       "      <th>grade</th>\n",
       "      <th>sub_grade</th>\n",
       "      <th>home_ownership</th>\n",
       "      <th>verification_status</th>\n",
       "      <th>purpose</th>\n",
       "      <th>addr_state</th>\n",
       "      <th>initial_list_status</th>\n",
       "      <th>application_type</th>\n",
       "    </tr>\n",
       "  </thead>\n",
       "  <tbody>\n",
       "    <tr>\n",
       "      <th>0</th>\n",
       "      <td>2</td>\n",
       "      <td>13</td>\n",
       "      <td>1</td>\n",
       "      <td>0</td>\n",
       "      <td>2</td>\n",
       "      <td>38</td>\n",
       "      <td>1</td>\n",
       "      <td>0</td>\n",
       "    </tr>\n",
       "    <tr>\n",
       "      <th>1</th>\n",
       "      <td>2</td>\n",
       "      <td>10</td>\n",
       "      <td>1</td>\n",
       "      <td>0</td>\n",
       "      <td>11</td>\n",
       "      <td>41</td>\n",
       "      <td>1</td>\n",
       "      <td>0</td>\n",
       "    </tr>\n",
       "    <tr>\n",
       "      <th>2</th>\n",
       "      <td>1</td>\n",
       "      <td>8</td>\n",
       "      <td>1</td>\n",
       "      <td>0</td>\n",
       "      <td>4</td>\n",
       "      <td>14</td>\n",
       "      <td>1</td>\n",
       "      <td>1</td>\n",
       "    </tr>\n",
       "    <tr>\n",
       "      <th>4</th>\n",
       "      <td>5</td>\n",
       "      <td>25</td>\n",
       "      <td>1</td>\n",
       "      <td>1</td>\n",
       "      <td>6</td>\n",
       "      <td>38</td>\n",
       "      <td>1</td>\n",
       "      <td>0</td>\n",
       "    </tr>\n",
       "    <tr>\n",
       "      <th>5</th>\n",
       "      <td>2</td>\n",
       "      <td>12</td>\n",
       "      <td>5</td>\n",
       "      <td>1</td>\n",
       "      <td>2</td>\n",
       "      <td>10</td>\n",
       "      <td>1</td>\n",
       "      <td>0</td>\n",
       "    </tr>\n",
       "    <tr>\n",
       "      <th>6</th>\n",
       "      <td>1</td>\n",
       "      <td>6</td>\n",
       "      <td>1</td>\n",
       "      <td>0</td>\n",
       "      <td>2</td>\n",
       "      <td>23</td>\n",
       "      <td>0</td>\n",
       "      <td>0</td>\n",
       "    </tr>\n",
       "    <tr>\n",
       "      <th>7</th>\n",
       "      <td>1</td>\n",
       "      <td>5</td>\n",
       "      <td>1</td>\n",
       "      <td>0</td>\n",
       "      <td>6</td>\n",
       "      <td>40</td>\n",
       "      <td>1</td>\n",
       "      <td>0</td>\n",
       "    </tr>\n",
       "    <tr>\n",
       "      <th>8</th>\n",
       "      <td>0</td>\n",
       "      <td>1</td>\n",
       "      <td>5</td>\n",
       "      <td>0</td>\n",
       "      <td>1</td>\n",
       "      <td>38</td>\n",
       "      <td>1</td>\n",
       "      <td>0</td>\n",
       "    </tr>\n",
       "    <tr>\n",
       "      <th>9</th>\n",
       "      <td>1</td>\n",
       "      <td>9</td>\n",
       "      <td>1</td>\n",
       "      <td>0</td>\n",
       "      <td>1</td>\n",
       "      <td>39</td>\n",
       "      <td>1</td>\n",
       "      <td>0</td>\n",
       "    </tr>\n",
       "    <tr>\n",
       "      <th>12</th>\n",
       "      <td>2</td>\n",
       "      <td>11</td>\n",
       "      <td>1</td>\n",
       "      <td>0</td>\n",
       "      <td>9</td>\n",
       "      <td>27</td>\n",
       "      <td>1</td>\n",
       "      <td>0</td>\n",
       "    </tr>\n",
       "  </tbody>\n",
       "</table>\n",
       "</div>"
      ],
      "text/plain": [
       "    grade  sub_grade  home_ownership  verification_status  purpose  \\\n",
       "0       2         13               1                    0        2   \n",
       "1       2         10               1                    0       11   \n",
       "2       1          8               1                    0        4   \n",
       "4       5         25               1                    1        6   \n",
       "5       2         12               5                    1        2   \n",
       "6       1          6               1                    0        2   \n",
       "7       1          5               1                    0        6   \n",
       "8       0          1               5                    0        1   \n",
       "9       1          9               1                    0        1   \n",
       "12      2         11               1                    0        9   \n",
       "\n",
       "    addr_state  initial_list_status  application_type  \n",
       "0           38                    1                 0  \n",
       "1           41                    1                 0  \n",
       "2           14                    1                 1  \n",
       "4           38                    1                 0  \n",
       "5           10                    1                 0  \n",
       "6           23                    0                 0  \n",
       "7           40                    1                 0  \n",
       "8           38                    1                 0  \n",
       "9           39                    1                 0  \n",
       "12          27                    1                 0  "
      ]
     },
     "execution_count": 31,
     "metadata": {},
     "output_type": "execute_result"
    }
   ],
   "source": [
    "le = LabelEncoder()\n",
    "# apply le on categorical feature columns\n",
    "approved_dataset[categorical_cols] = approved_dataset[categorical_cols].apply(lambda col: le.fit_transform(col))\n",
    "approved_dataset[categorical_cols].head(10)"
   ]
  },
  {
   "cell_type": "code",
   "execution_count": 32,
   "id": "c445fe71",
   "metadata": {},
   "outputs": [
    {
     "data": {
      "text/html": [
       "<div>\n",
       "<style scoped>\n",
       "    .dataframe tbody tr th:only-of-type {\n",
       "        vertical-align: middle;\n",
       "    }\n",
       "\n",
       "    .dataframe tbody tr th {\n",
       "        vertical-align: top;\n",
       "    }\n",
       "\n",
       "    .dataframe thead th {\n",
       "        text-align: right;\n",
       "    }\n",
       "</style>\n",
       "<table border=\"1\" class=\"dataframe\">\n",
       "  <thead>\n",
       "    <tr style=\"text-align: right;\">\n",
       "      <th></th>\n",
       "      <th>loan_amnt</th>\n",
       "      <th>funded_amnt</th>\n",
       "      <th>term</th>\n",
       "      <th>int_rate</th>\n",
       "      <th>installment</th>\n",
       "      <th>grade</th>\n",
       "      <th>sub_grade</th>\n",
       "      <th>home_ownership</th>\n",
       "      <th>verification_status</th>\n",
       "      <th>purpose</th>\n",
       "      <th>...</th>\n",
       "      <th>avg_cur_bal</th>\n",
       "      <th>bc_open_to_buy</th>\n",
       "      <th>bc_util</th>\n",
       "      <th>mo_sin_old_rev_tl_op</th>\n",
       "      <th>mo_sin_rcnt_rev_tl_op</th>\n",
       "      <th>mort_acc</th>\n",
       "      <th>num_actv_rev_tl</th>\n",
       "      <th>charged_off</th>\n",
       "      <th>log_annual_inc</th>\n",
       "      <th>fico_score</th>\n",
       "    </tr>\n",
       "  </thead>\n",
       "  <tbody>\n",
       "    <tr>\n",
       "      <th>0</th>\n",
       "      <td>3600.0</td>\n",
       "      <td>3600.0</td>\n",
       "      <td>36</td>\n",
       "      <td>13.99</td>\n",
       "      <td>123.03</td>\n",
       "      <td>2</td>\n",
       "      <td>13</td>\n",
       "      <td>1</td>\n",
       "      <td>0</td>\n",
       "      <td>2</td>\n",
       "      <td>...</td>\n",
       "      <td>20701.0</td>\n",
       "      <td>1506.0</td>\n",
       "      <td>37.2</td>\n",
       "      <td>128.0</td>\n",
       "      <td>3.0</td>\n",
       "      <td>1.0</td>\n",
       "      <td>4.0</td>\n",
       "      <td>0</td>\n",
       "      <td>4.740371</td>\n",
       "      <td>677.0</td>\n",
       "    </tr>\n",
       "    <tr>\n",
       "      <th>1</th>\n",
       "      <td>24700.0</td>\n",
       "      <td>24700.0</td>\n",
       "      <td>36</td>\n",
       "      <td>11.99</td>\n",
       "      <td>820.28</td>\n",
       "      <td>2</td>\n",
       "      <td>10</td>\n",
       "      <td>1</td>\n",
       "      <td>0</td>\n",
       "      <td>11</td>\n",
       "      <td>...</td>\n",
       "      <td>9733.0</td>\n",
       "      <td>57830.0</td>\n",
       "      <td>27.1</td>\n",
       "      <td>192.0</td>\n",
       "      <td>2.0</td>\n",
       "      <td>4.0</td>\n",
       "      <td>5.0</td>\n",
       "      <td>0</td>\n",
       "      <td>4.812920</td>\n",
       "      <td>717.0</td>\n",
       "    </tr>\n",
       "    <tr>\n",
       "      <th>2</th>\n",
       "      <td>20000.0</td>\n",
       "      <td>20000.0</td>\n",
       "      <td>60</td>\n",
       "      <td>10.78</td>\n",
       "      <td>432.66</td>\n",
       "      <td>1</td>\n",
       "      <td>8</td>\n",
       "      <td>1</td>\n",
       "      <td>0</td>\n",
       "      <td>4</td>\n",
       "      <td>...</td>\n",
       "      <td>31617.0</td>\n",
       "      <td>2737.0</td>\n",
       "      <td>55.9</td>\n",
       "      <td>184.0</td>\n",
       "      <td>14.0</td>\n",
       "      <td>5.0</td>\n",
       "      <td>3.0</td>\n",
       "      <td>0</td>\n",
       "      <td>4.799347</td>\n",
       "      <td>697.0</td>\n",
       "    </tr>\n",
       "    <tr>\n",
       "      <th>4</th>\n",
       "      <td>10400.0</td>\n",
       "      <td>10400.0</td>\n",
       "      <td>60</td>\n",
       "      <td>22.45</td>\n",
       "      <td>289.91</td>\n",
       "      <td>5</td>\n",
       "      <td>25</td>\n",
       "      <td>1</td>\n",
       "      <td>1</td>\n",
       "      <td>6</td>\n",
       "      <td>...</td>\n",
       "      <td>27644.0</td>\n",
       "      <td>4567.0</td>\n",
       "      <td>77.5</td>\n",
       "      <td>210.0</td>\n",
       "      <td>4.0</td>\n",
       "      <td>6.0</td>\n",
       "      <td>6.0</td>\n",
       "      <td>0</td>\n",
       "      <td>5.018842</td>\n",
       "      <td>697.0</td>\n",
       "    </tr>\n",
       "    <tr>\n",
       "      <th>5</th>\n",
       "      <td>11950.0</td>\n",
       "      <td>11950.0</td>\n",
       "      <td>36</td>\n",
       "      <td>13.44</td>\n",
       "      <td>405.18</td>\n",
       "      <td>2</td>\n",
       "      <td>12</td>\n",
       "      <td>5</td>\n",
       "      <td>1</td>\n",
       "      <td>2</td>\n",
       "      <td>...</td>\n",
       "      <td>2560.0</td>\n",
       "      <td>844.0</td>\n",
       "      <td>91.0</td>\n",
       "      <td>54.0</td>\n",
       "      <td>32.0</td>\n",
       "      <td>0.0</td>\n",
       "      <td>3.0</td>\n",
       "      <td>0</td>\n",
       "      <td>4.531492</td>\n",
       "      <td>692.0</td>\n",
       "    </tr>\n",
       "  </tbody>\n",
       "</table>\n",
       "<p>5 rows × 28 columns</p>\n",
       "</div>"
      ],
      "text/plain": [
       "   loan_amnt  funded_amnt  term  int_rate  installment  grade  sub_grade  \\\n",
       "0     3600.0       3600.0    36     13.99       123.03      2         13   \n",
       "1    24700.0      24700.0    36     11.99       820.28      2         10   \n",
       "2    20000.0      20000.0    60     10.78       432.66      1          8   \n",
       "4    10400.0      10400.0    60     22.45       289.91      5         25   \n",
       "5    11950.0      11950.0    36     13.44       405.18      2         12   \n",
       "\n",
       "   home_ownership  verification_status  purpose  ...  avg_cur_bal  \\\n",
       "0               1                    0        2  ...      20701.0   \n",
       "1               1                    0       11  ...       9733.0   \n",
       "2               1                    0        4  ...      31617.0   \n",
       "4               1                    1        6  ...      27644.0   \n",
       "5               5                    1        2  ...       2560.0   \n",
       "\n",
       "   bc_open_to_buy  bc_util  mo_sin_old_rev_tl_op  mo_sin_rcnt_rev_tl_op  \\\n",
       "0          1506.0     37.2                 128.0                    3.0   \n",
       "1         57830.0     27.1                 192.0                    2.0   \n",
       "2          2737.0     55.9                 184.0                   14.0   \n",
       "4          4567.0     77.5                 210.0                    4.0   \n",
       "5           844.0     91.0                  54.0                   32.0   \n",
       "\n",
       "   mort_acc  num_actv_rev_tl  charged_off  log_annual_inc  fico_score  \n",
       "0       1.0              4.0            0        4.740371       677.0  \n",
       "1       4.0              5.0            0        4.812920       717.0  \n",
       "2       5.0              3.0            0        4.799347       697.0  \n",
       "4       6.0              6.0            0        5.018842       697.0  \n",
       "5       0.0              3.0            0        4.531492       692.0  \n",
       "\n",
       "[5 rows x 28 columns]"
      ]
     },
     "execution_count": 32,
     "metadata": {},
     "output_type": "execute_result"
    }
   ],
   "source": [
    "approved_dataset.head()"
   ]
  },
  {
   "cell_type": "code",
   "execution_count": 33,
   "id": "ae707afd",
   "metadata": {},
   "outputs": [
    {
     "data": {
      "text/plain": [
       "(1345310, 28)"
      ]
     },
     "execution_count": 33,
     "metadata": {},
     "output_type": "execute_result"
    }
   ],
   "source": [
    "approved_dataset.shape"
   ]
  },
  {
   "cell_type": "markdown",
   "id": "062a0d16",
   "metadata": {},
   "source": [
    "#### 4.4 Sampling data "
   ]
  },
  {
   "cell_type": "markdown",
   "id": "524e851e",
   "metadata": {},
   "source": [
    "Given that the loan data is skewed, it is sampled to have an equal number of charge-off and no charge-off observations. Sampling leads to a more balanced dataset and avoids overfitting."
   ]
  },
  {
   "cell_type": "code",
   "execution_count": 34,
   "id": "939dd28f",
   "metadata": {},
   "outputs": [
    {
     "name": "stdout",
     "output_type": "stream",
     "text": [
      "Current shape of dataset:  (11000, 28)\n"
     ]
    }
   ],
   "source": [
    "loanstatus_0 = approved_dataset[approved_dataset[\"charged_off\"] == 0]\n",
    "loanstatus_1 = approved_dataset[approved_dataset[\"charged_off\"] == 1]\n",
    "subset_of_loanstatus_0 = loanstatus_0.sample(n=5500)\n",
    "subset_of_loanstatus_1 = loanstatus_1.sample(n=5500)\n",
    "approved_dataset = pd.concat([subset_of_loanstatus_1, subset_of_loanstatus_0])\n",
    "approved_dataset = approved_dataset.sample(frac=1).reset_index(drop=True)\n",
    "print(\"Current shape of dataset: \", approved_dataset.shape)"
   ]
  },
  {
   "cell_type": "code",
   "execution_count": 35,
   "id": "ce252b08",
   "metadata": {},
   "outputs": [],
   "source": [
    "#Filling the NAs with the mean of the column.\n",
    "approved_dataset.fillna(approved_dataset.mean(),inplace = True)"
   ]
  },
  {
   "cell_type": "markdown",
   "id": "5d11dcb8",
   "metadata": {},
   "source": [
    "### 5. Evaluate algorithms and models "
   ]
  },
  {
   "cell_type": "markdown",
   "id": "b8193d8b",
   "metadata": {},
   "source": [
    "#### 5.1 Train-test split "
   ]
  },
  {
   "cell_type": "code",
   "execution_count": 36,
   "id": "75bbdc22",
   "metadata": {},
   "outputs": [],
   "source": [
    "import sklearn\n",
    "from sklearn.model_selection import train_test_split\n",
    "X = approved_dataset.loc[:, approved_dataset.columns != 'charged_off']\n",
    "y = approved_dataset[\"charged_off\"]\n",
    "validation_size = 0.2\n",
    "seed = 7\n",
    "X_train, X_validation, y_train, y_validation = train_test_split(X, y, test_size=validation_size, random_state=seed)"
   ]
  },
  {
   "cell_type": "code",
   "execution_count": 37,
   "id": "0d9c75d8",
   "metadata": {},
   "outputs": [
    {
     "data": {
      "text/plain": [
       "0    5500\n",
       "1    5500\n",
       "Name: charged_off, dtype: int64"
      ]
     },
     "execution_count": 37,
     "metadata": {},
     "output_type": "execute_result"
    }
   ],
   "source": [
    "approved_dataset['charged_off'].value_counts()"
   ]
  },
  {
   "cell_type": "markdown",
   "id": "bc62cb15",
   "metadata": {},
   "source": [
    "#### 5.2 Evaluation metrics "
   ]
  },
  {
   "cell_type": "markdown",
   "id": "64429582",
   "metadata": {},
   "source": [
    "We select the ROC evaluation metric. This metric represents a model's ability to discriminate between positive and negative classes. An ROC of 1 represents a model that made all the predictions perfectly, and a value of 0.5 represents a model that is as good as random."
   ]
  },
  {
   "cell_type": "code",
   "execution_count": 38,
   "id": "a873d1b2",
   "metadata": {},
   "outputs": [],
   "source": [
    "num_folds = 10\n",
    "seed = 7\n",
    "scoring = 'roc_auc'"
   ]
  },
  {
   "cell_type": "markdown",
   "id": "421a907b",
   "metadata": {},
   "source": [
    "The model cannot afford to have a high amount of false negatives (denies a customer a loan when it should have approved) as that leads to a negative impact on the investors and the credibility of the company. So we can use recall"
   ]
  },
  {
   "cell_type": "markdown",
   "id": "f53b11a6",
   "metadata": {},
   "source": [
    "#### 5.3 Compare models and algorithms "
   ]
  },
  {
   "cell_type": "code",
   "execution_count": 39,
   "id": "4ddc439a",
   "metadata": {},
   "outputs": [],
   "source": [
    "from sklearn.linear_model import LogisticRegression\n",
    "from sklearn.tree import DecisionTreeClassifier\n",
    "from sklearn.neighbors import KNeighborsClassifier\n",
    "from sklearn.discriminant_analysis import LinearDiscriminantAnalysis\n",
    "from sklearn.naive_bayes import GaussianNB\n",
    "from sklearn.svm import SVC\n",
    "from sklearn.neural_network import MLPClassifier\n",
    "from sklearn.pipeline import Pipeline\n",
    "from sklearn.ensemble import AdaBoostClassifier, GradientBoostingClassifier\n",
    "from sklearn.ensemble import RandomForestClassifier, ExtraTreesClassifier\n",
    "\n",
    "models = []\n",
    "models.append(('LR', LogisticRegression()))\n",
    "models.append(('LDA', LinearDiscriminantAnalysis()))\n",
    "models.append(('KNN', KNeighborsClassifier()))\n",
    "models.append(('CART', DecisionTreeClassifier()))\n",
    "models.append(('NB', GaussianNB()))\n",
    "#Neural network\n",
    "models.append(('NN', MLPClassifier()))\n",
    "#Boosting methods\n",
    "models.append(('AB', AdaBoostClassifier()))\n",
    "models.append(('GBM', GradientBoostingClassifier()))\n",
    "#Bagging methods\n",
    "models.append(('RF', RandomForestClassifier()))\n",
    "models.append(('ET', ExtraTreesClassifier()))"
   ]
  },
  {
   "cell_type": "code",
   "execution_count": 40,
   "id": "4de2503d",
   "metadata": {},
   "outputs": [
    {
     "name": "stdout",
     "output_type": "stream",
     "text": [
      "LR:0.902045(0.009381)\n",
      "LDA:0.899224(0.010500)\n",
      "KNN:0.835209(0.016146)\n",
      "CART:0.811978(0.014234)\n",
      "NB:0.901138(0.009273)\n",
      "NN:0.883795(0.016256)\n",
      "AB:0.930142(0.009408)\n",
      "GBM:0.942196(0.009132)\n",
      "RF:0.932936(0.010235)\n",
      "ET:0.925024(0.008475)\n"
     ]
    }
   ],
   "source": [
    "from sklearn.model_selection import train_test_split, KFold,cross_val_score, GridSearchCV\n",
    "\n",
    "results = []\n",
    "names = []\n",
    "for name, model in models:\n",
    "    kfold = KFold(n_splits=num_folds, random_state=seed, shuffle=True)\n",
    "    cv_results = cross_val_score(model, X_train, y_train, cv=kfold, scoring=scoring)\n",
    "    results.append(cv_results)\n",
    "    names.append(name)\n",
    "    msg = \"%s:%f(%f)\"%(name, cv_results.mean(), cv_results.std())\n",
    "    print(msg)"
   ]
  },
  {
   "cell_type": "code",
   "execution_count": 41,
   "id": "a322e706",
   "metadata": {},
   "outputs": [
    {
     "data": {
      "image/png": "[encoded data removed]",
      "text/plain": [
       "<Figure size 1080x576 with 1 Axes>"
      ]
     },
     "metadata": {
      "needs_background": "light"
     },
     "output_type": "display_data"
    }
   ],
   "source": [
    "# Let's compare algorithms\n",
    "fig = pyplot.figure()\n",
    "fig.suptitle('Algorithm Comparison')\n",
    "ax = fig.add_subplot(111)\n",
    "pyplot.boxplot(results)\n",
    "ax.set_xticklabels(names)\n",
    "fig.set_size_inches(15,8)\n",
    "pyplot.show()"
   ]
  },
  {
   "cell_type": "markdown",
   "id": "1459b9ff",
   "metadata": {},
   "source": [
    "The gradient boosting algorithm (GBM) model performs best, and we select it for grid search."
   ]
  },
  {
   "cell_type": "markdown",
   "id": "122b815b",
   "metadata": {},
   "source": [
    "### 6. Model Tuning and Grid Search "
   ]
  },
  {
   "cell_type": "markdown",
   "id": "93bcc6c5",
   "metadata": {},
   "source": [
    "We tune the number of estimators and maximum depth hyperparameters"
   ]
  },
  {
   "cell_type": "code",
   "execution_count": 42,
   "id": "8e468c7c",
   "metadata": {},
   "outputs": [
    {
     "name": "stdout",
     "output_type": "stream",
     "text": [
      "Best: 0.943321 using {'max_depth': 3, 'n_estimators': 180}\n"
     ]
    }
   ],
   "source": [
    "#Grid search gradient boosting\n",
    "n_estimators = [20,180]\n",
    "max_depth = [3,5]\n",
    "param_grid = dict(n_estimators=n_estimators, max_depth=max_depth)\n",
    "model = GradientBoostingClassifier()\n",
    "kfold = KFold(n_splits=num_folds, random_state=seed, shuffle=True)\n",
    "grid = GridSearchCV(estimator=model, param_grid=param_grid, scoring=scoring, \\\n",
    "                   cv=kfold)\n",
    "grid_result = grid.fit(X_train, y_train)\n",
    "print(\"Best: %f using %s\" % (grid_result.best_score_, grid_result.best_params_))"
   ]
  },
  {
   "cell_type": "code",
   "execution_count": 43,
   "id": "0cdaebf4",
   "metadata": {},
   "outputs": [
    {
     "name": "stdout",
     "output_type": "stream",
     "text": [
      "#4 0.929460 (0.010439) with: {'max_depth': 3, 'n_estimators': 20}\n",
      "#1 0.943321 (0.009169) with: {'max_depth': 3, 'n_estimators': 180}\n",
      "#3 0.937763 (0.009867) with: {'max_depth': 5, 'n_estimators': 20}\n",
      "#2 0.943091 (0.008873) with: {'max_depth': 5, 'n_estimators': 180}\n"
     ]
    }
   ],
   "source": [
    "means = grid_result.cv_results_['mean_test_score']\n",
    "stds = grid_result.cv_results_['std_test_score']\n",
    "params = grid_result.cv_results_['params']\n",
    "ranks = grid_result.cv_results_['rank_test_score']\n",
    "for mean, stdev, param, rank in zip(means, stds, params, ranks):\n",
    "    print(\"#%d %f (%f) with: %r\" % (rank, mean, stdev, param))"
   ]
  },
  {
   "cell_type": "markdown",
   "id": "99238eca",
   "metadata": {},
   "source": [
    "### 7. Finalise the model "
   ]
  },
  {
   "cell_type": "markdown",
   "id": "abe7e55d",
   "metadata": {},
   "source": [
    "Let us prepare the GBM model with the parameters found during grid search and check the results on the test dataset"
   ]
  },
  {
   "cell_type": "code",
   "execution_count": 44,
   "id": "5f5ab6a7",
   "metadata": {},
   "outputs": [
    {
     "data": {
      "text/plain": [
       "GradientBoostingClassifier(max_depth=5, n_estimators=180)"
      ]
     },
     "execution_count": 44,
     "metadata": {},
     "output_type": "execute_result"
    }
   ],
   "source": [
    "model = GradientBoostingClassifier(max_depth= 5, n_estimators = 180)\n",
    "model.fit(X_train, y_train)"
   ]
  },
  {
   "cell_type": "code",
   "execution_count": 45,
   "id": "ba4f7029",
   "metadata": {},
   "outputs": [
    {
     "name": "stdout",
     "output_type": "stream",
     "text": [
      "0.8777272727272727\n"
     ]
    }
   ],
   "source": [
    "#Estimate accuracy\n",
    "predictions = model.predict(X_validation)\n",
    "print(accuracy_score(y_validation, predictions))"
   ]
  },
  {
   "cell_type": "markdown",
   "id": "8e3f99a3",
   "metadata": {},
   "source": [
    "The accuracy of the model is a reasonably 87% on the test set. Let us examine the confusion matrix"
   ]
  },
  {
   "cell_type": "code",
   "execution_count": 46,
   "id": "fddea3b4",
   "metadata": {},
   "outputs": [
    {
     "name": "stdout",
     "output_type": "stream",
     "text": [
      "[[ 912  199]\n",
      " [  70 1019]]\n"
     ]
    }
   ],
   "source": [
    "print(confusion_matrix(y_validation, predictions))"
   ]
  },
  {
   "cell_type": "code",
   "execution_count": 47,
   "id": "30ff946c",
   "metadata": {},
   "outputs": [
    {
     "data": {
      "text/plain": [
       "<AxesSubplot:xlabel='Predicted', ylabel='Actual'>"
      ]
     },
     "execution_count": 47,
     "metadata": {},
     "output_type": "execute_result"
    },
    {
     "data": {
      "image/png": "[encoded data removed]",
      "text/plain": [
       "<Figure size 432x288 with 2 Axes>"
      ]
     },
     "metadata": {
      "needs_background": "light"
     },
     "output_type": "display_data"
    }
   ],
   "source": [
    "df_cm = pd.DataFrame(confusion_matrix(y_validation, predictions), columns=np.unique(y_validation), index = np.unique(y_validation))\n",
    "df_cm.index.name = 'Actual'\n",
    "df_cm.columns.name = 'Predicted'\n",
    "sns.heatmap(df_cm, cmap=\"Blues\", annot=True,annot_kws={\"size\": 16})"
   ]
  },
  {
   "cell_type": "markdown",
   "id": "c2217249",
   "metadata": {},
   "source": [
    "Looking at the confusion matrix and the overall result of the test set, both the rate of false positives and false negatives are lower. The overall model performance looks good and is in line with the training set results."
   ]
  },
  {
   "cell_type": "code",
   "execution_count": 48,
   "id": "64aff800",
   "metadata": {},
   "outputs": [
    {
     "name": "stdout",
     "output_type": "stream",
     "text": [
      "              precision    recall  f1-score   support\n",
      "\n",
      "           0       0.93      0.82      0.87      1111\n",
      "           1       0.84      0.94      0.88      1089\n",
      "\n",
      "    accuracy                           0.88      2200\n",
      "   macro avg       0.88      0.88      0.88      2200\n",
      "weighted avg       0.88      0.88      0.88      2200\n",
      "\n"
     ]
    }
   ],
   "source": [
    "print(classification_report(y_validation, predictions))"
   ]
  },
  {
   "cell_type": "markdown",
   "id": "6d28bee1",
   "metadata": {},
   "source": [
    "#### 7.1 Variable Intuition/Feature Importance"
   ]
  },
  {
   "cell_type": "markdown",
   "id": "e7af0807",
   "metadata": {},
   "source": [
    "We compute and display the variable feature importance of our trained model using the inbuilt class feature_importances"
   ]
  },
  {
   "cell_type": "code",
   "execution_count": 49,
   "id": "e706f81d",
   "metadata": {},
   "outputs": [
    {
     "name": "stdout",
     "output_type": "stream",
     "text": [
      "[6.47766014e-03 6.54454377e-03 2.83220085e-02 3.01248911e-02\n",
      " 3.57340968e-02 5.71098828e-03 5.96167834e-02 5.09296772e-04\n",
      " 2.60661222e-03 4.36850979e-03 6.04948999e-03 9.96954994e-03\n",
      " 8.46512319e-03 1.02458058e-02 5.62846994e-03 7.01645885e-01\n",
      " 5.85306802e-04 8.38917975e-03 1.34268842e-02 1.01167300e-02\n",
      " 5.79115411e-03 1.02785764e-02 6.41585833e-03 2.91114902e-03\n",
      " 6.19896185e-03 9.99286236e-03 3.87362260e-03]\n"
     ]
    },
    {
     "data": {
      "image/png": "[encoded data removed]",
      "text/plain": [
       "<Figure size 432x288 with 1 Axes>"
      ]
     },
     "metadata": {
      "needs_background": "light"
     },
     "output_type": "display_data"
    }
   ],
   "source": [
    "print(model.feature_importances_)\n",
    "feature_importances = pd.Series(model.feature_importances_, index=X.columns)\n",
    "#plot graph\n",
    "feature_importances.nlargest(10).plot(kind='barh')\n",
    "pyplot.show()"
   ]
  },
  {
   "cell_type": "markdown",
   "id": "29227619",
   "metadata": {},
   "source": [
    "The last payment amount seems to be the most important feature, followed by sub_grade and installment."
   ]
  },
  {
   "cell_type": "code",
   "execution_count": null,
   "id": "b4bbdc3c",
   "metadata": {},
   "outputs": [],
   "source": []
  }
 ],
 "metadata": {
  "kernelspec": {
   "display_name": "Python 3 (ipykernel)",
   "language": "python",
   "name": "python3"
  },
  "language_info": {
   "codemirror_mode": {
    "name": "ipython",
    "version": 3
   },
   "file_extension": ".py",
   "mimetype": "text/x-python",
   "name": "python",
   "nbconvert_exporter": "python",
   "pygments_lexer": "ipython3",
   "version": "3.9.7"
  }
 },
 "nbformat": 4,
 "nbformat_minor": 5
}
